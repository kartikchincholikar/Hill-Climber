{
 "cells": [
  {
   "cell_type": "code",
   "execution_count": 43,
   "metadata": {
    "collapsed": true
   },
   "outputs": [],
   "source": [
    "from tkinter import *\n",
    "import numpy as np\n",
    "\n",
    "class PaintBox( Frame ):\n",
    "    def __init__( self ):\n",
    "        Frame.__init__( self )\n",
    "        self.pack( expand = YES, fill = BOTH )\n",
    "        self.master.title( \"A simple paint program\" )\n",
    "        self.master.geometry( \"1000x600\" )\n",
    "\n",
    "        self.message = Label( self, text = \"Drag the mouse to draw\" )\n",
    "        self.message.pack( side = BOTTOM )\n",
    "        self.points = []\n",
    "      \n",
    "      # create Canvas component\n",
    "        self.myCanvas = Canvas( self )\n",
    "        self.myCanvas.pack( expand = YES, fill = BOTH )\n",
    "\n",
    "      # bind mouse dragging event to Canvas\n",
    "        self.myCanvas.bind( \"<B1-Motion>\", self.paint )\n",
    "\n",
    "    def paint( self, event ):\n",
    "        x1, y1 = ( event.x - 4 ), ( event.y - 4 )\n",
    "        x2, y2 = ( event.x + 4 ), ( event.y + 4 )\n",
    "        self.myCanvas.create_oval(x1, y1, x2, y2, fill = \"red\" )\n",
    "        x = (x1+x2)/2\n",
    "        y = (y1+y2)/2\n",
    "        self.points.append([x,y])\n",
    "        \n",
    "   \n",
    "    def main():\n",
    "        PaintBox().mainloop()\n"
   ]
  },
  {
   "cell_type": "code",
   "execution_count": 44,
   "metadata": {
    "collapsed": true
   },
   "outputs": [],
   "source": [
    "def get_drawing():\n",
    "    paint = PaintBox()\n",
    "\n",
    "    paint.mainloop()\n",
    "\n",
    "    points = np.array(paint.points)\n",
    "\n",
    "    return 600 - points[:,1].reshape(1,points.shape[0])"
   ]
  },
  {
   "cell_type": "code",
   "execution_count": 45,
   "metadata": {},
   "outputs": [
    {
     "data": {
      "text/plain": [
       "array([[ 597.,  597.,  597.,  597.,  597.,  598.,  598.,  599.,  599.,\n",
       "         599.,  600.,  600.,  600.,  600.,  600.,  600.,  600.,  600.,\n",
       "         600.,  600.,  599.,  598.,  597.,  597.,  596.,  596.,  595.,\n",
       "         595.,  595.,  595.,  595.,  595.,  595.,  595.,  597.,  597.,\n",
       "         597.,  598.,  598.,  598.,  598.,  598.,  598.,  598.,  598.,\n",
       "         598.,  598.,  598.,  598.,  598.,  598.,  598.,  598.,  598.,\n",
       "         598.,  598.,  598.,  597.,  597.,  597.,  597.,  597.,  597.,\n",
       "         597.,  597.,  597.,  597.,  597.,  597.,  597.,  597.,  597.,\n",
       "         597.,  597.,  597.,  597.,  597.,  596.,  596.,  596.,  595.,\n",
       "         595.,  595.,   26.,   26.,   26.,   26.,   26.,   26.,   26.,\n",
       "          26.,   26.,   26.,   26.,   26.,   26.,   26.,   26.,   26.,\n",
       "          26.,   26.,   26.,   26.,   26.,   26.,   26.,   26.,   26.,\n",
       "          26.,   26.,   26.,   26.,   26.,   26.,   26.,   25.,   25.,\n",
       "          25.,   25.,   26.,   27.,   28.,   29.,   31.,   33.,   34.,\n",
       "          35.,   35.,   36.,   36.,   36.,   36.,   36.,   36.,   38.,\n",
       "          39.,   40.,   42.,   42.,   42.,   42.,   42.,   42.,   42.,\n",
       "          42.,   42.,   42.,   42.,   42.,   43.,   43.,   42.,   41.,\n",
       "          40.,   39.,   38.,   38.,   37.,   36.,   36.,   36.,   36.,\n",
       "          36.,   36.,   36.,   36.,   36.,   37.,   37.,   37.,   37.,\n",
       "          37.,   37.,   38.,   38.,   39.,   39.]])"
      ]
     },
     "execution_count": 45,
     "metadata": {},
     "output_type": "execute_result"
    }
   ],
   "source": [
    "get_drawing()"
   ]
  },
  {
   "cell_type": "code",
   "execution_count": null,
   "metadata": {
    "collapsed": true
   },
   "outputs": [],
   "source": []
  }
 ],
 "metadata": {
  "kernelspec": {
   "display_name": "Python 3",
   "language": "python",
   "name": "python3"
  },
  "language_info": {
   "codemirror_mode": {
    "name": "ipython",
    "version": 3
   },
   "file_extension": ".py",
   "mimetype": "text/x-python",
   "name": "python",
   "nbconvert_exporter": "python",
   "pygments_lexer": "ipython3",
   "version": "3.5.3"
  }
 },
 "nbformat": 4,
 "nbformat_minor": 2
}
